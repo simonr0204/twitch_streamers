{
 "cells": [
  {
   "cell_type": "code",
   "execution_count": 1,
   "metadata": {},
   "outputs": [],
   "source": [
    "import requests\n",
    "import pandas as pd\n",
    "import re\n",
    "from matplotlib import pyplot as plt\n",
    "from datetime import datetime"
   ]
  },
  {
   "cell_type": "code",
   "execution_count": 2,
   "metadata": {},
   "outputs": [],
   "source": [
    "#client ID\n",
    "with open('client_ID.txt', 'r') as file:\n",
    "    client_id = file.read()    "
   ]
  },
  {
   "cell_type": "code",
   "execution_count": 3,
   "metadata": {},
   "outputs": [],
   "source": [
    "#Streamer class. Instantiation gets streamer ID for given name, and uses it to pull stats on the streamer's last 100 streams\n",
    "class streamer():\n",
    "    def __init__(self, name):\n",
    "        self.name=name\n",
    "        self.ID = self.get_ID()\n",
    "        self.streams = self.get_streams()\n",
    "        \n",
    "    def get_ID(self):\n",
    "        url = f'https://api.twitch.tv/helix/users/?login={self.name}'\n",
    "        headers = {'Client-ID': client_id,}\n",
    "        streamer_id = (requests.get(url, headers=headers).json())['data'][0]['id']\n",
    "        return streamer_id\n",
    "\n",
    "    def get_streams(self):  \n",
    "        url = f'https://api.twitch.tv/helix/videos?user_id={self.ID}'\n",
    "        headers = {'Client-ID': client_id,}\n",
    "        params = {'first' : 100}\n",
    "        data = pd.DataFrame((requests.get(url, headers=headers, params=params).json())['data']) \n",
    "\n",
    "        def get_duration(timestring):         #Duration is given as a string with inconsistent format.\n",
    "            if re.search('h', timestring):\n",
    "                string_format = '%Hh%Mm%Ss'\n",
    "            elif re.search('m', timestring):\n",
    "                string_format ='%Mm%Ss'\n",
    "            else:\n",
    "                string_format = '%Ss'\n",
    "            pt = datetime.strptime(timestring, string_format)\n",
    "            return pt.second+pt.minute*60+pt.hour*3600\n",
    "\n",
    "        data['duration_secs'] = data['duration'].apply(get_duration)\n",
    "        return data"
   ]
  },
  {
   "cell_type": "code",
   "execution_count": 4,
   "metadata": {},
   "outputs": [],
   "source": [
    "#Takes list of streamers and produces a DataFrame of their last 100 streams\n",
    "def create_df(streamer_list):\n",
    "    return pd.concat([streamer(s).streams for s in streamer_list], axis=0)"
   ]
  },
  {
   "cell_type": "code",
   "execution_count": 5,
   "metadata": {},
   "outputs": [
    {
     "data": {
      "text/html": [
       "<div>\n",
       "<style scoped>\n",
       "    .dataframe tbody tr th:only-of-type {\n",
       "        vertical-align: middle;\n",
       "    }\n",
       "\n",
       "    .dataframe tbody tr th {\n",
       "        vertical-align: top;\n",
       "    }\n",
       "\n",
       "    .dataframe thead th {\n",
       "        text-align: right;\n",
       "    }\n",
       "</style>\n",
       "<table border=\"1\" class=\"dataframe\">\n",
       "  <thead>\n",
       "    <tr style=\"text-align: right;\">\n",
       "      <th></th>\n",
       "      <th>created_at</th>\n",
       "      <th>description</th>\n",
       "      <th>duration</th>\n",
       "      <th>id</th>\n",
       "      <th>language</th>\n",
       "      <th>published_at</th>\n",
       "      <th>thumbnail_url</th>\n",
       "      <th>title</th>\n",
       "      <th>type</th>\n",
       "      <th>url</th>\n",
       "      <th>user_id</th>\n",
       "      <th>user_name</th>\n",
       "      <th>view_count</th>\n",
       "      <th>viewable</th>\n",
       "      <th>duration_secs</th>\n",
       "    </tr>\n",
       "  </thead>\n",
       "  <tbody>\n",
       "    <tr>\n",
       "      <th>0</th>\n",
       "      <td>2019-01-29T01:03:35Z</td>\n",
       "      <td></td>\n",
       "      <td>5h1m49s</td>\n",
       "      <td>371531446</td>\n",
       "      <td>en</td>\n",
       "      <td>2019-01-29T01:03:35Z</td>\n",
       "      <td>https://static-cdn.jtvnw.net/s3_vods/719a28d7f...</td>\n",
       "      <td>TSM chocoTaco || it's a new week</td>\n",
       "      <td>archive</td>\n",
       "      <td>https://www.twitch.tv/videos/371531446</td>\n",
       "      <td>69906737</td>\n",
       "      <td>chocoTaco</td>\n",
       "      <td>2073</td>\n",
       "      <td>public</td>\n",
       "      <td>18109</td>\n",
       "    </tr>\n",
       "    <tr>\n",
       "      <th>1</th>\n",
       "      <td>2019-01-28T17:04:15Z</td>\n",
       "      <td></td>\n",
       "      <td>5h4m17s</td>\n",
       "      <td>371305793</td>\n",
       "      <td>en</td>\n",
       "      <td>2019-01-28T17:04:15Z</td>\n",
       "      <td>https://static-cdn.jtvnw.net/s3_vods/bb4076ef2...</td>\n",
       "      <td>TSM chocoTaco || it's a new week</td>\n",
       "      <td>archive</td>\n",
       "      <td>https://www.twitch.tv/videos/371305793</td>\n",
       "      <td>69906737</td>\n",
       "      <td>chocoTaco</td>\n",
       "      <td>2359</td>\n",
       "      <td>public</td>\n",
       "      <td>18257</td>\n",
       "    </tr>\n",
       "    <tr>\n",
       "      <th>2</th>\n",
       "      <td>2019-01-28T06:44:24Z</td>\n",
       "      <td></td>\n",
       "      <td>2h50m30s</td>\n",
       "      <td>371157769</td>\n",
       "      <td>en</td>\n",
       "      <td>2019-01-28T06:44:24Z</td>\n",
       "      <td>https://static-cdn.jtvnw.net/s3_vods/6316d359a...</td>\n",
       "      <td>TSM chocoTaco || secret dota stream</td>\n",
       "      <td>archive</td>\n",
       "      <td>https://www.twitch.tv/videos/371157769</td>\n",
       "      <td>69906737</td>\n",
       "      <td>chocoTaco</td>\n",
       "      <td>812</td>\n",
       "      <td>public</td>\n",
       "      <td>10230</td>\n",
       "    </tr>\n",
       "    <tr>\n",
       "      <th>3</th>\n",
       "      <td>2019-01-26T21:39:00Z</td>\n",
       "      <td></td>\n",
       "      <td>8h15m11s</td>\n",
       "      <td>370352415</td>\n",
       "      <td>en</td>\n",
       "      <td>2019-01-26T21:39:00Z</td>\n",
       "      <td>https://static-cdn.jtvnw.net/s3_vods/6e4202201...</td>\n",
       "      <td>TSM chocoTaco || it's Saturday</td>\n",
       "      <td>archive</td>\n",
       "      <td>https://www.twitch.tv/videos/370352415</td>\n",
       "      <td>69906737</td>\n",
       "      <td>chocoTaco</td>\n",
       "      <td>8010</td>\n",
       "      <td>public</td>\n",
       "      <td>29711</td>\n",
       "    </tr>\n",
       "    <tr>\n",
       "      <th>4</th>\n",
       "      <td>2019-01-26T01:06:29Z</td>\n",
       "      <td></td>\n",
       "      <td>4h48m11s</td>\n",
       "      <td>369839733</td>\n",
       "      <td>en</td>\n",
       "      <td>2019-01-26T01:06:29Z</td>\n",
       "      <td>https://static-cdn.jtvnw.net/s3_vods/a2759ed98...</td>\n",
       "      <td>TSM chocoTaco || FRIDAY NIGHT LETS DO WHAT WE ...</td>\n",
       "      <td>archive</td>\n",
       "      <td>https://www.twitch.tv/videos/369839733</td>\n",
       "      <td>69906737</td>\n",
       "      <td>chocoTaco</td>\n",
       "      <td>5487</td>\n",
       "      <td>public</td>\n",
       "      <td>17291</td>\n",
       "    </tr>\n",
       "  </tbody>\n",
       "</table>\n",
       "</div>"
      ],
      "text/plain": [
       "             created_at description  duration         id language  \\\n",
       "0  2019-01-29T01:03:35Z               5h1m49s  371531446       en   \n",
       "1  2019-01-28T17:04:15Z               5h4m17s  371305793       en   \n",
       "2  2019-01-28T06:44:24Z              2h50m30s  371157769       en   \n",
       "3  2019-01-26T21:39:00Z              8h15m11s  370352415       en   \n",
       "4  2019-01-26T01:06:29Z              4h48m11s  369839733       en   \n",
       "\n",
       "           published_at                                      thumbnail_url  \\\n",
       "0  2019-01-29T01:03:35Z  https://static-cdn.jtvnw.net/s3_vods/719a28d7f...   \n",
       "1  2019-01-28T17:04:15Z  https://static-cdn.jtvnw.net/s3_vods/bb4076ef2...   \n",
       "2  2019-01-28T06:44:24Z  https://static-cdn.jtvnw.net/s3_vods/6316d359a...   \n",
       "3  2019-01-26T21:39:00Z  https://static-cdn.jtvnw.net/s3_vods/6e4202201...   \n",
       "4  2019-01-26T01:06:29Z  https://static-cdn.jtvnw.net/s3_vods/a2759ed98...   \n",
       "\n",
       "                                               title     type  \\\n",
       "0                   TSM chocoTaco || it's a new week  archive   \n",
       "1                   TSM chocoTaco || it's a new week  archive   \n",
       "2                TSM chocoTaco || secret dota stream  archive   \n",
       "3                     TSM chocoTaco || it's Saturday  archive   \n",
       "4  TSM chocoTaco || FRIDAY NIGHT LETS DO WHAT WE ...  archive   \n",
       "\n",
       "                                      url   user_id  user_name  view_count  \\\n",
       "0  https://www.twitch.tv/videos/371531446  69906737  chocoTaco        2073   \n",
       "1  https://www.twitch.tv/videos/371305793  69906737  chocoTaco        2359   \n",
       "2  https://www.twitch.tv/videos/371157769  69906737  chocoTaco         812   \n",
       "3  https://www.twitch.tv/videos/370352415  69906737  chocoTaco        8010   \n",
       "4  https://www.twitch.tv/videos/369839733  69906737  chocoTaco        5487   \n",
       "\n",
       "  viewable  duration_secs  \n",
       "0   public          18109  \n",
       "1   public          18257  \n",
       "2   public          10230  \n",
       "3   public          29711  \n",
       "4   public          17291  "
      ]
     },
     "execution_count": 5,
     "metadata": {},
     "output_type": "execute_result"
    }
   ],
   "source": [
    "df = create_df(['chocotaco', 'shroud', 'drdisrespect'])\n",
    "df.head()"
   ]
  },
  {
   "cell_type": "code",
   "execution_count": 6,
   "metadata": {},
   "outputs": [
    {
     "data": {
      "text/plain": [
       "Text(0.5, 1.0, 'Stream duration (last 100 streams)')"
      ]
     },
     "execution_count": 6,
     "metadata": {},
     "output_type": "execute_result"
    },
    {
     "data": {
      "image/png": "[encoded data removed]",
      "text/plain": [
       "<Figure size 1440x360 with 1 Axes>"
      ]
     },
     "metadata": {
      "needs_background": "light"
     },
     "output_type": "display_data"
    }
   ],
   "source": [
    "#Stream duration histogram\n",
    "fig = plt.figure()\n",
    "df.groupby('user_name')['duration_secs'].plot(kind='hist', alpha=0.6, figsize=(20,5))\n",
    "plt.legend(df.groupby('user_name').count().index)  #Get names for legend in same order as groupby\n",
    "plt.title('Stream duration (last 100 streams)')"
   ]
  },
  {
   "cell_type": "code",
   "execution_count": 7,
   "metadata": {},
   "outputs": [
    {
     "data": {
      "text/plain": [
       "Text(0.5, 1.0, 'Number of views per stream (last 100 streams)')"
      ]
     },
     "execution_count": 7,
     "metadata": {},
     "output_type": "execute_result"
    },
    {
     "data": {
      "image/png": "[encoded data removed]",
      "text/plain": [
       "<Figure size 1440x360 with 1 Axes>"
      ]
     },
     "metadata": {
      "needs_background": "light"
     },
     "output_type": "display_data"
    }
   ],
   "source": [
    "#Stream viewers histogram\n",
    "fig = plt.figure()\n",
    "df.groupby('user_name')['view_count'].plot(kind='hist', alpha=0.6, figsize=(20,5))\n",
    "plt.legend(df.groupby('user_name').count().index)  #Get names for legend in same order as groupby\n",
    "plt.xlim(-5000,100000)\n",
    "plt.title('Number of views per stream (last 100 streams)')"
   ]
  }
 ],
 "metadata": {
  "kernelspec": {
   "display_name": "Python 3",
   "language": "python",
   "name": "python3"
  },
  "language_info": {
   "codemirror_mode": {
    "name": "ipython",
    "version": 3
   },
   "file_extension": ".py",
   "mimetype": "text/x-python",
   "name": "python",
   "nbconvert_exporter": "python",
   "pygments_lexer": "ipython3",
   "version": "3.7.0"
  }
 },
 "nbformat": 4,
 "nbformat_minor": 2
}
